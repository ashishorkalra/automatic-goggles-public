{
 "cells": [
  {
   "cell_type": "markdown",
   "id": "c8706b16",
   "metadata": {},
   "source": [
    "# Automatic Goggles - Example Usage\n",
    "\n",
    "This notebook demonstrates the **automatic-goggles** package for extracting structured fields from conversation transcripts.\n",
    "\n",
    "## Features Demonstrated:\n",
    "1. Basic field extraction with reasoning\n",
    "2. Field extraction without reasoning (faster, lower cost)\n",
    "3. Complex multi-field extraction (names, contact info, dates, company info)\n",
    "4. Conversation evaluation against custom criteria"
   ]
  },
  {
   "cell_type": "markdown",
   "id": "0894e19e",
   "metadata": {},
   "source": [
    "## Step 1: Install the Package\n",
    "\n",
    "First, install the `automatic-goggles` package from PyPI:"
   ]
  },
  {
   "cell_type": "code",
   "execution_count": null,
   "id": "0e2c49c2",
   "metadata": {},
   "outputs": [],
   "source": [
    "!pip install --upgrade automatic-goggles"
   ]
  },
  {
   "cell_type": "markdown",
   "id": "7d8b31f8",
   "metadata": {},
   "source": [
    "## Step 2: Import Required Libraries\n",
    "\n",
    "Import the necessary modules:"
   ]
  },
  {
   "cell_type": "code",
   "execution_count": null,
   "id": "86df285b",
   "metadata": {},
   "outputs": [],
   "source": [
    "import json\n",
    "import os\n",
    "from transtype import TranscriptProcessor, AssertsEvaluator"
   ]
  },
  {
   "cell_type": "markdown",
   "id": "49e2049f",
   "metadata": {},
   "source": [
    "## Step 3: Set Your OpenAI API Key\n",
    "\n",
    "You'll need an OpenAI API key to use this package:"
   ]
  },
  {
   "cell_type": "code",
   "execution_count": null,
   "id": "0b41616f",
   "metadata": {},
   "outputs": [],
   "source": [
    "# Load environment variables from .env file\n",
    "from dotenv import load_dotenv\n",
    "load_dotenv()\n",
    "\n",
    "# Option 1: Load from environment variable (recommended)\n",
    "api_key = os.getenv(\"OPENAI_API_KEY\")\n",
    "\n",
    "# Option 2: Set it directly (not recommended for production)\n",
    "if not api_key:\n",
    "    api_key = input(\"Enter your OpenAI API key: \").strip()"
   ]
  },
  {
   "cell_type": "markdown",
   "id": "a8d50030",
   "metadata": {},
   "source": [
    "## Step 4: Initialize Processors\n",
    "\n",
    "Create two processors - one with reasoning and one without:"
   ]
  },
  {
   "cell_type": "code",
   "execution_count": null,
   "id": "1c6388cc",
   "metadata": {},
   "outputs": [],
   "source": [
    "# With reasoning (provides explanations)\n",
    "processor_with_reasoning = TranscriptProcessor(api_key=api_key, include_reasoning=True)\n",
    "\n",
    "# Without reasoning (faster, lower cost)\n",
    "processor_without_reasoning = TranscriptProcessor(api_key=api_key, include_reasoning=False)\n",
    "\n",
    "print(\"✅ Processors initialized successfully!\")"
   ]
  },
  {
   "cell_type": "markdown",
   "id": "6ce22cf0",
   "metadata": {},
   "source": [
    "## Example 1: Basic Field Extraction (With Reasoning)\n",
    "\n",
    "Extract a representative's name from a simple conversation:"
   ]
  },
  {
   "cell_type": "code",
   "execution_count": null,
   "id": "0f85592a",
   "metadata": {},
   "outputs": [],
   "source": [
    "basic_input_data = {\n",
    "    \"messages\": [\n",
    "        {\n",
    "            \"role\": \"assistant\",\n",
    "            \"content\": \"Hi, this is Marcus, I'm a customer service representative with TechFlow Solutions in Downtown Seattle. Our account manager is currently in a meeting, but I'm here to help with any questions. What can I assist you with today?\",\n",
    "        },\n",
    "        {\"role\": \"user\", \"content\": \"I need to discuss my account billing issues.\"},\n",
    "        {\n",
    "            \"role\": \"assistant\",\n",
    "            \"content\": \"I understand you have billing concerns. I can definitely help you with that. Let me pull up your account information. Can you please provide me with your account number or the email address associated with your account?\",\n",
    "        },\n",
    "    ],\n",
    "    \"fields\": [\n",
    "        {\n",
    "            \"field_name\": \"representative_name\",\n",
    "            \"field_type\": \"string\",\n",
    "            \"format_example\": \"Sarah Chen\",\n",
    "            \"field_description\": \"The name of the customer service representative or agent who is helping the customer. This should be extracted from their introduction or when they identify themselves during the conversation.\",\n",
    "        }\n",
    "    ],\n",
    "}\n",
    "\n",
    "print(\"Processing basic example with reasoning...\")\n",
    "result_with_reasoning = processor_with_reasoning.process(basic_input_data)\n",
    "print(\"\\n✅ Extraction Result (with reasoning):\")\n",
    "print(json.dumps(result_with_reasoning, indent=2))"
   ]
  },
  {
   "cell_type": "markdown",
   "id": "9488e8c3",
   "metadata": {},
   "source": [
    "## Example 2: Basic Field Extraction (Without Reasoning)\n",
    "\n",
    "Same extraction but without reasoning explanations (faster & cheaper):"
   ]
  },
  {
   "cell_type": "code",
   "execution_count": null,
   "id": "6d2c2fff",
   "metadata": {},
   "outputs": [],
   "source": [
    "print(\"Processing basic example without reasoning...\")\n",
    "result_without_reasoning = processor_without_reasoning.process(basic_input_data)\n",
    "print(\"\\n✅ Extraction Result (without reasoning):\")\n",
    "print(json.dumps(result_without_reasoning, indent=2))"
   ]
  },
  {
   "cell_type": "markdown",
   "id": "43fd9ab5",
   "metadata": {},
   "source": [
    "## Example 3: Complex Multi-Field Extraction\n",
    "\n",
    "Extract multiple fields from an insurance claim conversation:"
   ]
  },
  {
   "cell_type": "code",
   "execution_count": null,
   "id": "782ea4ec",
   "metadata": {},
   "outputs": [],
   "source": [
    "complex_input_data = {\n",
    "    \"messages\": [\n",
    "        {\n",
    "            \"role\": \"assistant\",\n",
    "            \"content\": \"Good morning! This is Joan London from ABC Insurance Solutions. I'm calling regarding your recent vehicle damage claim. How are you today?\",\n",
    "        },\n",
    "        {\n",
    "            \"role\": \"user\",\n",
    "            \"content\": \"Hi Joan, I'm doing okay considering the circumstances. I submitted the claim for the accident that happened on August 11th, 2025.\",\n",
    "        },\n",
    "        {\n",
    "            \"role\": \"assistant\",\n",
    "            \"content\": \"I understand, and I'm sorry to hear about your accident. Let me pull up your claim details. Can you verify your contact information? I show your phone as 217-218-1234 and your email as will.tis@gmail.com. Is this still current?\",\n",
    "        },\n",
    "        {\n",
    "            \"role\": \"user\",\n",
    "            \"content\": \"Actually, my phone number has changed. It's now 217-918-2344, but the email address will.tis@gmail.com is correct.\",\n",
    "        },\n",
    "        {\n",
    "            \"role\": \"assistant\",\n",
    "            \"content\": \"Perfect, I've updated your phone to 217-918-2344. Thank you, Mr. Tesco. Now, regarding the resolution timeline, we expect to have everything finalized by January 15th, 2026. However, we do need to schedule an inspection appointment.\",\n",
    "        },\n",
    "        {\n",
    "            \"role\": \"user\",\n",
    "            \"content\": \"When would that inspection be? I hope it's soon so we can get this moving.\",\n",
    "        },\n",
    "        {\n",
    "            \"role\": \"assistant\",\n",
    "            \"content\": \"Absolutely! Since the accident was on August 11th, yesterday, we always schedule inspections for the Friday of the following week. So your appointment will be next week Friday from the incident date. Let me see... that would be perfect for our inspector's schedule.\",\n",
    "        },\n",
    "        {\n",
    "            \"role\": \"user\",\n",
    "            \"content\": \"So just to confirm - the appointment is the next week Friday after August 11 2025? And will this be with the same adjuster who handled my previous claim?\",\n",
    "        },\n",
    "        {\n",
    "            \"role\": \"assistant\",\n",
    "            \"content\": \"That's correct - next week Friday after the incident date. And no, this will be with our specialist David Chen, not the previous adjuster. He'll meet you at the collision center on Oak Avenue at 10:30 AM.\",\n",
    "        },\n",
    "    ],\n",
    "    \"fields\": [\n",
    "        {\n",
    "            \"field_name\": \"agent_name\",\n",
    "            \"field_type\": \"string\",\n",
    "            \"format_example\": \"Jennifer Martinez\",\n",
    "            \"field_description\": \"The full name of the insurance agent, customer service representative, or company employee who is assisting the customer. Look for introductions like 'This is [Name] from [Company]' or when they identify themselves during the conversation.\",\n",
    "        },\n",
    "        {\n",
    "            \"field_name\": \"customer_name\",\n",
    "            \"field_type\": \"string\",\n",
    "            \"format_example\": \"Michael Torres\",\n",
    "            \"field_description\": \"The customer's full name or last name. This could be mentioned when the agent addresses them (e.g., 'Mr. Torres', 'Ms. Johnson') or when the customer introduces themselves. Look for formal address patterns and name references.\",\n",
    "        },\n",
    "        {\n",
    "            \"field_name\": \"customer_phone\",\n",
    "            \"field_type\": \"string\",\n",
    "            \"format_example\": \"415-555-9876\",\n",
    "            \"field_description\": \"The customer's current phone number mentioned during the call. Pay attention to any updates or corrections to phone numbers during the conversation. Look for 10-digit numbers in formats like 415-555-9876, (415) 555-9876, or similar patterns.\",\n",
    "        },\n",
    "        {\n",
    "            \"field_name\": \"customer_email\",\n",
    "            \"field_type\": \"string\",\n",
    "            \"format_example\": \"michael.torres@techcorp.com\",\n",
    "            \"field_description\": \"The customer's email address provided or confirmed during the conversation. Look for standard email format with @ symbol and domain. This might be mentioned for verification or contact purposes.\",\n",
    "        },\n",
    "        {\n",
    "            \"field_name\": \"incident_date\",\n",
    "            \"field_type\": \"string\",\n",
    "            \"format_example\": \"December 8, 2024\",\n",
    "            \"field_description\": \"The exact date when the incident, accident, or event being discussed occurred. This is the base date for calculating other related dates. Look for dates mentioned as 'accident date', 'incident date', or when the event happened.\",\n",
    "        },\n",
    "        {\n",
    "            \"field_name\": \"resolution_date\",\n",
    "            \"field_type\": \"string\",\n",
    "            \"format_example\": \"January 15, 2024\",\n",
    "            \"field_description\": \"The expected or promised date when the issue, claim, or matter will be resolved or completed. This could be mentioned as 'resolved by', 'completed by', 'finalized by', or similar future date references related to case resolution.\",\n",
    "        },\n",
    "        {\n",
    "            \"field_name\": \"appointment_date\",\n",
    "            \"field_type\": \"string\",\n",
    "            \"format_example\": \"December 13, 2024\",\n",
    "            \"field_description\": \"The calculated appointment date that is always scheduled for 'next Friday' relative to the incident date. When the conversation mentions 'next week Friday after the incident date' or 'Friday of the following week from the accident', calculate the actual date. For incident on December 3, 2024 (Tuesday), next week Friday would be December 13, 2024.\",\n",
    "        },\n",
    "        {\n",
    "            \"field_name\": \"company_name\",\n",
    "            \"field_type\": \"string\",\n",
    "            \"format_example\": \"AutoClaim Solutions\",\n",
    "            \"field_description\": \"The name of the company, organization, or business that the agent represents. This is typically mentioned in the agent's introduction like 'calling from [Company Name]' or 'I'm with [Company Name]'.\",\n",
    "        },\n",
    "    ],\n",
    "}\n",
    "\n",
    "print(\"Processing complex multi-field example...\")\n",
    "complex_result = processor_with_reasoning.process(complex_input_data)\n",
    "print(\"\\n✅ Complex Extraction Result:\")\n",
    "print(json.dumps(complex_result, indent=2))"
   ]
  },
  {
   "cell_type": "markdown",
   "id": "82cd3b6f",
   "metadata": {},
   "source": [
    "## Summary: Extraction Results\n",
    "\n",
    "Let's display a formatted summary of all extracted fields:"
   ]
  },
  {
   "cell_type": "code",
   "execution_count": null,
   "id": "54def12a",
   "metadata": {},
   "outputs": [],
   "source": [
    "print(\"=\" * 60)\n",
    "print(\"EXTRACTION SUMMARY\")\n",
    "print(\"=\" * 60)\n",
    "\n",
    "print(f\"\\n📋 Basic Example Fields Extracted: {len(result_with_reasoning['fields'])}\")\n",
    "for field in result_with_reasoning[\"fields\"]:\n",
    "    status = \"✅ Found\" if field[\"field_value\"] else \"❌ Not Found\"\n",
    "    confidence = f\"({field['field_confidence']:.2f})\"\n",
    "    print(f\"  {field['field_name']}: {status} {confidence}\")\n",
    "\n",
    "print(f\"\\n📋 Complex Example Fields Extracted: {len(complex_result['fields'])}\")\n",
    "for field in complex_result[\"fields\"]:\n",
    "    status = \"✅ Found\" if field[\"field_value\"] else \"❌ Not Found\"\n",
    "    confidence = f\"({field['field_confidence']:.2f})\"\n",
    "    value = (\n",
    "        field[\"field_value\"][:30] + \"...\"\n",
    "        if field[\"field_value\"] and len(field[\"field_value\"]) > 30\n",
    "        else field[\"field_value\"]\n",
    "    )\n",
    "    print(f\"  {field['field_name']}: {status} {confidence} - '{value}'\")\n",
    "\n",
    "print(\"\\n\" + \"=\" * 60)\n",
    "print(\"✨ All examples completed successfully!\")\n",
    "print(\"=\" * 60)"
   ]
  },
  {
   "cell_type": "markdown",
   "id": "7033bc72",
   "metadata": {},
   "source": [
    "## Example 4: Conversation Evaluation\n",
    "\n",
    "Now let's evaluate conversation quality using the `AssertsEvaluator` class:"
   ]
  },
  {
   "cell_type": "code",
   "execution_count": null,
   "id": "502cd4cf",
   "metadata": {},
   "outputs": [],
   "source": [
    "# Initialize evaluator with evaluation steps\n",
    "evaluator = AssertsEvaluator(\n",
    "    api_key=api_key,\n",
    "    evaluation_steps=[\n",
    "        \"Did the agent ask for the caller's name?\",\n",
    "        \"Did the agent offer to help the caller?\",\n",
    "        \"Was the agent polite and professional?\",\n",
    "    ],\n",
    "    threshold=0.7,\n",
    ")\n",
    "\n",
    "# Evaluate conversation\n",
    "evaluation_conversation = {\n",
    "    \"messages\": [\n",
    "        {\"role\": \"user\", \"content\": \"Hi, I need help with my account\"},\n",
    "        {\n",
    "            \"role\": \"assistant\",\n",
    "            \"content\": \"Hello! I'd be happy to help. May I have your name?\",\n",
    "        },\n",
    "        {\"role\": \"user\", \"content\": \"My name is John Smith\"},\n",
    "        {\n",
    "            \"role\": \"assistant\",\n",
    "            \"content\": \"Thank you, Mr. Smith. Let me pull up your account information right away.\",\n",
    "        },\n",
    "    ]\n",
    "}\n",
    "\n",
    "print(\"Evaluating conversation quality...\")\n",
    "eval_result = evaluator.evaluate(evaluation_conversation)\n",
    "print(\"\\n✅ Evaluation Result:\")\n",
    "print(json.dumps(eval_result, indent=2))"
   ]
  },
  {
   "cell_type": "markdown",
   "id": "27f5a401",
   "metadata": {},
   "source": [
    "### Evaluation Summary"
   ]
  },
  {
   "cell_type": "code",
   "execution_count": null,
   "id": "6f6fd171",
   "metadata": {},
   "outputs": [],
   "source": [
    "print(f\"📊 Overall Score: {eval_result['result']['score']:.2f}/10\")\n",
    "print(f\"🎯 Confidence: {eval_result['result']['confidence']:.2%}\")\n",
    "print(f\"✅ Success: {eval_result['result']['success']}\")\n",
    "print(f\"\\n💭 Reason: {eval_result['result']['reason']}\")"
   ]
  },
  {
   "cell_type": "markdown",
   "id": "eb4c0128",
   "metadata": {},
   "source": [
    "## Next Steps\n",
    "\n",
    "- 📚 Check out the [documentation](https://github.com/ashishorkalra/automatic-goggles-public#readme)\n",
    "- 🔍 Try with your own conversation transcripts\n",
    "- ⚙️ Experiment with custom field definitions\n",
    "- 💬 Use the `AssertsEvaluator` class for conversation quality evaluation\n",
    "\n",
    "Happy extracting! 🚀"
   ]
  },
  {
   "cell_type": "markdown",
   "id": "3d620b5e",
   "metadata": {},
   "source": []
  }
 ],
 "metadata": {
  "kernelspec": {
   "display_name": "automatic-goggles-test-env",
   "language": "python",
   "name": "python3"
  },
  "language_info": {
   "codemirror_mode": {
    "name": "ipython",
    "version": 3
   },
   "file_extension": ".py",
   "mimetype": "text/x-python",
   "name": "python",
   "nbconvert_exporter": "python",
   "pygments_lexer": "ipython3",
   "version": "3.11.12"
  }
 },
 "nbformat": 4,
 "nbformat_minor": 5
}
